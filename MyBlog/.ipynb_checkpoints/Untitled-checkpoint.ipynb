{
 "cells": [
  {
   "cell_type": "code",
   "execution_count": 13,
   "metadata": {},
   "outputs": [
    {
     "name": "stdout",
     "output_type": "stream",
     "text": [
      "0 1\n",
      "1 1 2\n",
      "<\n"
     ]
    }
   ],
   "source": [
    "def compare(d1, d2):\n",
    "    n1 , n2 = d1[0], d2[0]\n",
    "    \n",
    "    n = min(n1, n2)\n",
    "    \n",
    "    if n1 == n2:\n",
    "        cp = '='\n",
    "    elif n1 > n2:\n",
    "        cp = '>' if n % 2 == 0 else '<'\n",
    "    else:\n",
    "        cp = '>' if n % 2 == 1 else '<'\n",
    "        \n",
    "    for i in range(n + 1):\n",
    "        a1, a2 = d1[i + 1], d2[i + 2]\n",
    "        if a1 == a2:\n",
    "            continue\n",
    "            \n",
    "        a1 *= (-1)**i\n",
    "        a2 *= (-1)**i\n",
    "        \n",
    "        if a1 > a2:\n",
    "            print ('>')\n",
    "        else:\n",
    "            print ('<')\n",
    "        return\n",
    "    \n",
    "    print (cp)\n",
    "\n",
    "\n",
    "line1 = input()\n",
    "d1 = [int(s) for s in line1.split()]\n",
    "\n",
    "line2 = input()\n",
    "d2 = [int(s) for s in line2.split()]\n",
    "\n",
    "compare(d1, d2)"
   ]
  },
  {
   "cell_type": "code",
   "execution_count": null,
   "metadata": {
    "collapsed": true
   },
   "outputs": [],
   "source": []
  }
 ],
 "metadata": {
  "kernelspec": {
   "display_name": "Python 3",
   "language": "python",
   "name": "python3"
  },
  "language_info": {
   "codemirror_mode": {
    "name": "ipython",
    "version": 3
   },
   "file_extension": ".py",
   "mimetype": "text/x-python",
   "name": "python",
   "nbconvert_exporter": "python",
   "pygments_lexer": "ipython3",
   "version": "3.6.3"
  }
 },
 "nbformat": 4,
 "nbformat_minor": 2
}
