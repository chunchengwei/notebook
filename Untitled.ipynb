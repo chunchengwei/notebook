{
 "cells": [
  {
   "cell_type": "code",
   "execution_count": 5,
   "metadata": {
    "collapsed": true
   },
   "outputs": [],
   "source": [
    "import numpy as np\n",
    "\n",
    "\n",
    "def winner(line):\n",
    "    n, m, a = line[0], line[1], line[2:]\n",
    "    win_id = np.arange(n)\n",
    "    length = n\n",
    "    ca_id = 0\n",
    "    start_index = 0\n",
    "    while(length != 1):\n",
    "        ca = a[ca_id]\n",
    "        pop_index = (start_index + ca - 1) % length\n",
    "        win_id.pop(pop_index)\n",
    "        length -= 1\n",
    "        ca_id = (ca_id + 1) % m\n",
    "        start_index = pop_index % length\n",
    "    return win_id[0]\n"
   ]
  },
  {
   "cell_type": "code",
   "execution_count": 6,
   "metadata": {},
   "outputs": [
    {
     "data": {
      "text/plain": [
       "61426"
      ]
     },
     "execution_count": 6,
     "metadata": {},
     "output_type": "execute_result"
    }
   ],
   "source": [
    "line = [100000, 2, 1, 2]\n",
    "winner(line)"
   ]
  }
 ],
 "metadata": {
  "kernelspec": {
   "display_name": "Python 3",
   "language": "python",
   "name": "python3"
  },
  "language_info": {
   "codemirror_mode": {
    "name": "ipython",
    "version": 3
   },
   "file_extension": ".py",
   "mimetype": "text/x-python",
   "name": "python",
   "nbconvert_exporter": "python",
   "pygments_lexer": "ipython3",
   "version": "3.6.3"
  }
 },
 "nbformat": 4,
 "nbformat_minor": 2
}
