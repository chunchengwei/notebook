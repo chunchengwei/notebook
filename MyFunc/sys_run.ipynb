{
 "cells": [
  {
   "cell_type": "code",
   "execution_count": 1,
   "metadata": {},
   "outputs": [],
   "source": [
    "import os\n",
    "import numpy as np\n",
    "import matplotlib.pyplot as plt"
   ]
  },
  {
   "cell_type": "markdown",
   "metadata": {},
   "source": [
    "# 调用外部命令，并输出\n",
    "* os.system:  输出在终端上，捕捉不到，只返回运行状态\n",
    "* os.popen:  只能捕捉到标准输出，捕捉不到标准错误输出，返回一个打开的文件对象\n",
    "\n",
    "> 下面的未测试\n",
    "\n",
    "* os.popen2: 返回2个对象，一个是标准输入，一个是标准输出\n",
    "* os.popen3: 返回3个对象，标准输入，标准输出，标准错误输出\n",
    "* os.popen4: 返回2个对象，pip_in 和pip_out_err"
   ]
  },
  {
   "cell_type": "markdown",
   "metadata": {},
   "source": [
    "``` python\n",
    "# 逐行输出的方法\n",
    "for line in r.readlines():\n",
    "     line = line.strip()\n",
    "     print (line)\n",
    "```"
   ]
  },
  {
   "cell_type": "code",
   "execution_count": 2,
   "metadata": {},
   "outputs": [],
   "source": [
    "# execute command, and print. if fname is given, print to file\n",
    "def sys_run(command, fname=''):\n",
    "    \n",
    "    # execute command, and get output\n",
    "    r = os.popen(command)\n",
    "    text = r.read()\n",
    "    r.close()\n",
    "\n",
    "    if fname == '':\n",
    "        print(text)\n",
    "    else:\n",
    "        with open(fname, 'w') as f:\n",
    "            f.write(text)\n",
    "        print('save to file:', fname)"
   ]
  },
  {
   "cell_type": "code",
   "execution_count": 3,
   "metadata": {},
   "outputs": [
    {
     "name": "stdout",
     "output_type": "stream",
     "text": [
      "total 536\n",
      "-rw-r--r--  1 chwei  staff   1781 Jul 30 15:07 AMS02_PositronPlusElectron\n",
      "-rw-r--r--  1 chwei  staff   4230 Aug  1 23:10 FDCC.ipynb\n",
      "drwxr-xr-x  8 chwei  staff    256 Aug 11 21:21 PreTEST\n",
      "-rw-r--r--  1 chwei  staff   1872 Jul 26 15:36 data\n",
      "-rw-r--r--  1 chwei  staff   2335 Aug  9 23:38 sliding_window.C\n",
      "-rw-r--r--  1 chwei  staff    996 Jul 30 16:50 slop\n",
      "-rw-r--r--  1 chwei  staff  74084 Aug  6 12:53 slop_FDCC.ipynb\n",
      "-rw-r--r--  1 chwei  staff   4133 Aug  2 00:15 slop_edge\n",
      "-rw-r--r--  1 chwei  staff  59548 Aug  6 13:25 slop_fit.ipynb\n",
      "-rw-r--r--  1 chwei  staff  95927 Aug  6 12:49 slope_of_array.ipynb\n",
      "-rw-r--r--  1 chwei  staff   3638 Aug 12 21:18 调用外部命令.ipynb\n",
      "\n"
     ]
    }
   ],
   "source": [
    "sys_run('ls -l')"
   ]
  },
  {
   "cell_type": "code",
   "execution_count": 4,
   "metadata": {},
   "outputs": [
    {
     "name": "stdout",
     "output_type": "stream",
     "text": [
      "save to file: a.txt\n"
     ]
    }
   ],
   "source": [
    "sys_run('ls -l', 'a.txt')"
   ]
  }
 ],
 "metadata": {
  "kernelspec": {
   "display_name": "Python 3",
   "language": "python",
   "name": "python3"
  },
  "language_info": {
   "codemirror_mode": {
    "name": "ipython",
    "version": 3
   },
   "file_extension": ".py",
   "mimetype": "text/x-python",
   "name": "python",
   "nbconvert_exporter": "python",
   "pygments_lexer": "ipython3",
   "version": "3.6.5"
  }
 },
 "nbformat": 4,
 "nbformat_minor": 2
}
