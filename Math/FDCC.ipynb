{
 "cells": [
  {
   "cell_type": "markdown",
   "metadata": {},
   "source": [
    "# Finite Difference Coefficients Calculator\n",
    "This is a python implementation\n",
    "[Ref](http://web.media.mit.edu/~crtaylor/calculator.html). "
   ]
  },
  {
   "cell_type": "markdown",
   "metadata": {},
   "source": [
    "## How does this work?\n",
    "Taylor expansion：\n",
    "$$\n",
    "f(x+s_{i}) = f(x) + \\frac{f'(x)}{1!}s_i + \\frac{f''(x)}{2!}s_{i}^{2} + \\cdots\n",
    "$$\n",
    "\n",
    "Since we require:\n",
    "$$\n",
    "\\frac{\\partial^{d} f}{\\partial x^{d}} = c_1\\cdot f(x+s_1) + c_2\\cdot f(x+s_2) + \\cdots + c_n\\cdot f(x+s_n)\n",
    "$$\n",
    "\n",
    "Then we have:\n",
    "$$\n",
    "\\begin{bmatrix}\n",
    "   s_1^0      & \\cdots & s_n^0     \\\\\n",
    "   \\vdots     & \\ddots & \\vdots    \\\\\n",
    "   s_1^{n-1}  & \\cdots & s_n^{n-1}\n",
    "\\end{bmatrix}\n",
    "\\begin{bmatrix}\n",
    "   c_1 \\\\\n",
    "   \\vdots \\\\\n",
    "   c_n\n",
    "\\end{bmatrix} = \n",
    "\\begin{bmatrix}\n",
    "   0 \\\\\n",
    "   \\vdots \\\\\n",
    "   d! \\\\\n",
    "   \\vdots \\\\\n",
    "   0\n",
    "\\end{bmatrix}\n",
    "$$"
   ]
  },
  {
   "cell_type": "markdown",
   "metadata": {},
   "source": [
    "So we get:\n",
    "$$\n",
    "[c_1 \\cdots c_n] = [0 \\cdots d! \\cdots 0]\n",
    "\\begin{bmatrix}\n",
    "   1      & s_1   & \\cdots & s_1^{n-1} \\\\\n",
    "   \\vdots &\\vdots & \\ddots & \\vdots    \\\\\n",
    "   1      & s_n   & \\cdots & s_n^{n-1}\n",
    "\\end{bmatrix}^{-1}\n",
    "$$"
   ]
  },
  {
   "cell_type": "markdown",
   "metadata": {},
   "source": [
    "The key point is to get the invers of Vandermonde matrix"
   ]
  },
  {
   "cell_type": "code",
   "execution_count": 19,
   "metadata": {},
   "outputs": [],
   "source": [
    "import numpy as np"
   ]
  },
  {
   "cell_type": "code",
   "execution_count": 20,
   "metadata": {},
   "outputs": [
    {
     "data": {
      "text/plain": [
       "array([[ 1,  2,  4],\n",
       "       [ 1,  3,  9],\n",
       "       [ 1,  5, 25]])"
      ]
     },
     "execution_count": 20,
     "metadata": {},
     "output_type": "execute_result"
    }
   ],
   "source": [
    "# test Vandermonde matrix\n",
    "x = np.array([2, 3, 5])\n",
    "vd = np.vander(x, 3, increasing=True)\n",
    "vd"
   ]
  },
  {
   "cell_type": "code",
   "execution_count": 21,
   "metadata": {},
   "outputs": [
    {
     "data": {
      "text/plain": [
       "array([[ 5.        , -5.        ,  1.        ],\n",
       "       [-2.66666667,  3.5       , -0.83333333],\n",
       "       [ 0.33333333, -0.5       ,  0.16666667]])"
      ]
     },
     "execution_count": 21,
     "metadata": {},
     "output_type": "execute_result"
    }
   ],
   "source": [
    "# test invers of matrix\n",
    "np.linalg.inv(vd)"
   ]
  },
  {
   "cell_type": "code",
   "execution_count": 27,
   "metadata": {},
   "outputs": [],
   "source": [
    "def FDCC(S, order=1):\n",
    "    \n",
    "    # get Vandermonde matrix\n",
    "    vd = np.vander(S, len(S), increasing=True)\n",
    "    \n",
    "    # set D array base on order\n",
    "    D = np.zeros_like(S)\n",
    "    D[order] = np.math.factorial(order)\n",
    "    \n",
    "    # calculate parameter array C\n",
    "    C = np.dot(D, np.linalg.inv(vd))\n",
    "    \n",
    "    return C"
   ]
  },
  {
   "cell_type": "code",
   "execution_count": 30,
   "metadata": {},
   "outputs": [
    {
     "data": {
      "text/plain": [
       "array([ 0.95      , -1.83333333,  0.83333333,  0.08333333, -0.03333333])"
      ]
     },
     "execution_count": 30,
     "metadata": {},
     "output_type": "execute_result"
    }
   ],
   "source": [
    "S = np.array([-1,0,1,3,4])\n",
    "FDCC(S, 2)"
   ]
  }
 ],
 "metadata": {
  "kernelspec": {
   "display_name": "Python 3",
   "language": "python",
   "name": "python3"
  },
  "language_info": {
   "codemirror_mode": {
    "name": "ipython",
    "version": 3
   },
   "file_extension": ".py",
   "mimetype": "text/x-python",
   "name": "python",
   "nbconvert_exporter": "python",
   "pygments_lexer": "ipython3",
   "version": "3.6.5"
  }
 },
 "nbformat": 4,
 "nbformat_minor": 2
}
